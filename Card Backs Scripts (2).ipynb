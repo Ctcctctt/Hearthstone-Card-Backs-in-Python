{
  "metadata": {
    "kernelspec": {
      "name": "python",
      "display_name": "Python (Pyodide)",
      "language": "python"
    },
    "language_info": {
      "codemirror_mode": {
        "name": "python",
        "version": 3
      },
      "file_extension": ".py",
      "mimetype": "text/x-python",
      "name": "python",
      "nbconvert_exporter": "python",
      "pygments_lexer": "ipython3",
      "version": "3.8"
    }
  },
  "nbformat_minor": 4,
  "nbformat": 4,
  "cells": [
    {
      "cell_type": "code",
      "source": "'''This is a collection of code I have written while working with the Battle.net API. \nBefore and after each script is a comment explaining basic functionality, and a comment explaining the code in more depth, respectively.\n\n(NOTE: NONE OF THESE SCRIPTS ARE MEANT TO BE RUN IN THIS NOTEBOOK)'''",
      "metadata": {
        "trusted": true
      },
      "outputs": [],
      "execution_count": null
    },
    {
      "cell_type": "code",
      "source": "#Ran this loop to keep my access token up to date and store it in a text file",
      "metadata": {
        "trusted": true
      },
      "outputs": [],
      "execution_count": null
    },
    {
      "cell_type": "code",
      "source": "import requests as rq\nimport time\nimport asyncio\n\n\nasync def main(): \n    while True:\n\n        token_data = token_data = rq.post(r'https://oauth.battle.net/token',\n                        auth=('user','pass'),\n                        data={'grant_type':'client_credentials'}).json()\n\n        print(token_data)\n\n        if token_data:\n\n            token = token_data['access_token']\n\n\n            with open('token.txt','w') as token_file:\n                token_file.write(token)\n                print('written')\n            print('big sleep')\n            time.sleep(token_data['expires_in']-100)\n        \n        time.sleep(5)\n\n\nasyncio.run(main())",
      "metadata": {
        "trusted": true
      },
      "outputs": [],
      "execution_count": null
    },
    {
      "cell_type": "code",
      "source": "'''in Bnets API, basic authentication is used to retrieve an access token, that token then allows the use of other API features(bearer auth).\nMy script is a loop that: \n    grabs a token granted response from bnets API, \n    writes to a text file with the access token, \n    waits for an amount of time that is derived from the response's expiration time on the token,\n    and repeats.'''",
      "metadata": {
        "trusted": true
      },
      "outputs": [],
      "execution_count": null
    },
    {
      "cell_type": "code",
      "source": "#This script was used in multiple variations to navigate and understand the structure of the data coming from the API",
      "metadata": {
        "trusted": true
      },
      "outputs": [],
      "execution_count": null
    },
    {
      "cell_type": "code",
      "source": "import requests as rq\n\nwith open('token.txt','r') as file:\n    token = file.read()\n\n\ndata = rq.get(r'https://us.api.blizzard.com/hearthstone/cardbacks', headers={'Authorization': f'Bearer {token}'}).json()\n\nfor i in data['cardBacks']:\n    print( i['name']['en_US'])",
      "metadata": {
        "trusted": true
      },
      "outputs": [],
      "execution_count": null
    },
    {
      "cell_type": "code",
      "source": "'''This version of the script just grabs the name of each card back on the first page of the cardbacks database\nas for a multi-page version of this logic, I was able to use a variation of this script to see that there is a 'pagecount' in the data.\nThis will allow me to just conveniently grab that number and iterate through that pages.'''",
      "metadata": {
        "trusted": true
      },
      "outputs": [],
      "execution_count": null
    },
    {
      "cell_type": "code",
      "source": "#this script will grab specific data from each page",
      "metadata": {
        "trusted": true
      },
      "outputs": [],
      "execution_count": null
    },
    {
      "cell_type": "code",
      "source": "import pandas as pd\nimport requests as rq\nimport asyncio\n\nwith open('token.txt', 'r') as file:\n    token = file.read()\n\n\ndef fetch_page(page, predf):\n    data = rq.get(\n        'https://us.api.blizzard.com/hearthstone/cardbacks',\n        headers={'Authorization': f'Bearer {token}'},\n        params={'page': page}\n    ).json()\n\n    for i in data.get('cardBacks', []):\n        predf.append({\n            'Name': i['name']['en_US'],\n            'Card Back': i['image'],\n            'Text': i['text']['en_US']\n        })\n\n\nasync def main():\n    predf = []\n    async with asyncio.TaskGroup() as tg:\n        for page in range(1, 8):\n            tg.create_task(asyncio.to_thread(fetch_page, page, predf))\n    df = pd.DataFrame(predf)\n    return df\n\n\nprint(asyncio.run(main()))",
      "metadata": {
        "trusted": true
      },
      "outputs": [],
      "execution_count": null
    },
    {
      "cell_type": "code",
      "source": "'''I used asyncios TaskGroup context manager to run the fetching of each page in a different thread at the same time, this is for speed and efficiency.\nThis thread is a step in the development process where the end goal is having an excel sheet where I have some text data, and displayed images.\nThe 'image' part of the data right now is just Amazon Cloudflare links.\n\nThis script was useful for making sure everything was in order before saving it to an excel file'''",
      "metadata": {
        "trusted": true
      },
      "outputs": [],
      "execution_count": null
    },
    {
      "cell_type": "code",
      "source": "#This script replaced image links in my excel file with embedded images. Asynchronous input/output was used for speed and efficiency.",
      "metadata": {
        "trusted": true
      },
      "outputs": [],
      "execution_count": null
    },
    {
      "cell_type": "code",
      "source": "import openpyxl.drawing\nimport openpyxl.drawing.image\nimport openpyxl.workbook\nimport asyncio, pandas as pd, aiohttp, PIL, openpyxl\nfrom PIL import Image\nfrom io import BytesIO\nfrom openpyxl import workbook\n\n\nbook = openpyxl.load_workbook('images_replaced.xlsx')\nsheet = book.active\n\n\nasync def fetch(session, url, idx):\n    async with session.get(url) as response:\n        content = await response.read()\n        image = Image.open(BytesIO(content))\n        sheet[f'C{idx+2}'] = ''\n        openpyxl_image = openpyxl.drawing.image.Image(image)\n        sheet.add_image(openpyxl_image, f'C{idx+2}')\n        print(f'added {url} to {idx+2}')\n        \n\nasync def main():\n    df = pd.read_excel('Card Backs.xlsx')\n    urls = urls = df['Card Back'].tolist()\n    async with aiohttp.ClientSession() as session:\n        tasks = [fetch(session, url, idx) for idx, url in enumerate(urls)]\n\n        await asyncio.gather(*tasks)\n    book.save('images_replaced_with_images.xlsx')\n    \n\nasyncio.run(main())",
      "metadata": {
        "trusted": true
      },
      "outputs": [],
      "execution_count": null
    },
    {
      "cell_type": "code",
      "source": "'''I used pandas to read the excel file and create a list, in order, of the urls from my images column. \n\nI then used asyncio to iterate over the urls, creating a task to get the image from the url, and replace the text in the cell with the image itself.\nThe loop that creates the tasks enumerates the urls to ensure the images are put in the correct cells.\n\nI designed this to all happen asynchronously, and entirely in memory(including the images), for the sake of speed and efficiency.'''",
      "metadata": {
        "trusted": true
      },
      "outputs": [],
      "execution_count": null
    }
  ]
}